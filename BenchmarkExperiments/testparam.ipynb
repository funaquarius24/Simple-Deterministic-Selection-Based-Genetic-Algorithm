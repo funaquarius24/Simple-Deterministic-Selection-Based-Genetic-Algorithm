{
 "cells": [
  {
   "cell_type": "code",
   "execution_count": 1,
   "id": "9625cb86",
   "metadata": {},
   "outputs": [
    {
     "name": "stdout",
     "output_type": "stream",
     "text": [
      "{'__name__': '__main__', '__doc__': 'Automatically created module for IPython interactive environment', '__package__': None, '__loader__': None, '__spec__': None, '__builtin__': <module 'builtins' (built-in)>, '__builtins__': <module 'builtins' (built-in)>, '_ih': ['', 'print(locals())'], '_oh': {}, '_dh': ['C:\\\\Mine\\\\Sources\\\\MineResSource\\\\codes'], 'In': ['', 'print(locals())'], 'Out': {}, 'get_ipython': <bound method InteractiveShell.get_ipython of <ipykernel.zmqshell.ZMQInteractiveShell object at 0x000002ABD9946910>>, 'exit': <IPython.core.autocall.ZMQExitAutocall object at 0x000002ABD99919D0>, 'quit': <IPython.core.autocall.ZMQExitAutocall object at 0x000002ABD99919D0>, '_': '', '__': '', '___': '', '_i': '', '_ii': '', '_iii': '', '_i1': 'print(locals())'}\n"
     ]
    }
   ],
   "source": [
    "# print(locals().param1)"
   ]
  },
  {
   "cell_type": "code",
   "execution_count": null,
   "id": "119838d1",
   "metadata": {},
   "outputs": [],
   "source": [
    "if not 'param1' in locals():\n",
    "    param1 = 1\n",
    "    print(\"exists\")"
   ]
  },
  {
   "cell_type": "code",
   "execution_count": null,
   "id": "13e63712",
   "metadata": {},
   "outputs": [],
   "source": [
    "aa = locals()\n",
    "aa['param1']\n",
    "print(aa['param1'])"
   ]
  }
 ],
 "metadata": {
  "kernelspec": {
   "display_name": "Python 3",
   "language": "python",
   "name": "python3"
  },
  "language_info": {
   "codemirror_mode": {
    "name": "ipython",
    "version": 3
   },
   "file_extension": ".py",
   "mimetype": "text/x-python",
   "name": "python",
   "nbconvert_exporter": "python",
   "pygments_lexer": "ipython3",
   "version": "3.8.6"
  }
 },
 "nbformat": 4,
 "nbformat_minor": 5
}
